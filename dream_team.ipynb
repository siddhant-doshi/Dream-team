{
  "nbformat": 4,
  "nbformat_minor": 0,
  "metadata": {
    "colab": {
      "provenance": []
    },
    "kernelspec": {
      "name": "python3",
      "display_name": "Python 3"
    },
    "language_info": {
      "name": "python"
    }
  },
  "cells": [
    {
      "cell_type": "code",
      "source": [
        "pip install pulp"
      ],
      "metadata": {
        "colab": {
          "base_uri": "https://localhost:8080/"
        },
        "id": "5vX3AbqyLOar",
        "outputId": "0ea71c03-41e7-4af0-a643-f09749a9409a"
      },
      "execution_count": 2,
      "outputs": [
        {
          "output_type": "stream",
          "name": "stdout",
          "text": [
            "Looking in indexes: https://pypi.org/simple, https://us-python.pkg.dev/colab-wheels/public/simple/\n",
            "Collecting pulp\n",
            "  Downloading PuLP-2.7.0-py3-none-any.whl (14.3 MB)\n",
            "\u001b[2K     \u001b[90m━━━━━━━━━━━━━━━━━━━━━━━━━━━━━━━━━━━━━━━━\u001b[0m \u001b[32m14.3/14.3 MB\u001b[0m \u001b[31m83.6 MB/s\u001b[0m eta \u001b[36m0:00:00\u001b[0m\n",
            "\u001b[?25hInstalling collected packages: pulp\n",
            "Successfully installed pulp-2.7.0\n"
          ]
        }
      ]
    },
    {
      "cell_type": "code",
      "source": [
        "from pulp import *\n",
        "import pandas as pd\n",
        "import pickle as pkl\n",
        "import numpy as np"
      ],
      "metadata": {
        "id": "8RL-aMPtKghq"
      },
      "execution_count": 3,
      "outputs": []
    },
    {
      "cell_type": "markdown",
      "source": [
        "### Insert the information about the players who are in the playing 11 (along with the substitutes) in the format as mentioned below. The expected points as of now can be entered to be average points of the player, but should be aimed for having a better predictions for the expected points."
      ],
      "metadata": {
        "id": "UbpF6YY3L1mP"
      }
    },
    {
      "cell_type": "code",
      "execution_count": 4,
      "metadata": {
        "id": "8hFaU_zeKEaI"
      },
      "outputs": [],
      "source": [
        "# Insert the information of the players in the playing team!\n",
        "# The points are the avg expected points directly picked from the dream 11 portal \n",
        "\n",
        "players_info = {  'J Buttler':{'points':49.85, 'Team':'RR', 'cat':'wk', 'cost':9}, \n",
        "                  'S Samson':{'points':49.62, 'Team':'RR', 'cat':'wk', 'cost':8.5}, \n",
        "                  'J Sharma':{'points':35.69, 'Team':'PBKS', 'cat':'wk', 'cost':7.5}, \n",
        "                  'P Singh':{'points':42.15, 'Team':'PBKS', 'cat':'wk', 'cost':7},\n",
        "\n",
        "                  'S Dhawan':{'points':53.5, 'Team':'PBKS', 'cat':'bat', 'cost':10}, \n",
        "                  'Y Jaiswal':{'points':71.15, 'Team':'RR', 'cat':'bat', 'cost':9}, \n",
        "                  'S Hetmyer':{'points':38.23, 'Team':'RR', 'cat':'bat', 'cost':8.5}, \n",
        "                  'J Root':{'points':13, 'Team':'RR', 'cat':'bat', 'cost':7}, \n",
        "                  'D Padikkal':{'points':33, 'Team':'RR', 'cat':'bat', 'cost':7}, \n",
        "                  'S Khan':{'points':20.15, 'Team':'PBKS', 'cat':'bat', 'cost':6.5}, \n",
        "                  'D Jurel':{'points':21.58, 'Team':'RR', 'cat':'bat', 'cost':6.5},\n",
        "                  'S Taide':{'points':46.33, 'Team':'PBKS', 'cat':'bat', 'cost':6},\n",
        "\n",
        "                  'R Ashwin':{'points':41.23, 'Team':'RR', 'cat':'ar', 'cost':8.5},\n",
        "                  'L Livingstone':{'points':58.88, 'Team':'PBKS', 'cat':'ar', 'cost':8.5}, \n",
        "                  'S Curran':{'points':46.31, 'Team':'PBKS', 'cat':'ar', 'cost':8.5},\n",
        "\n",
        "                  'Y Chahal':{'points':50.69, 'Team':'RR', 'cat':'bowl', 'cost':9}, \n",
        "                  'A Singh':{'points':38.31, 'Team':'PBKS', 'cat':'bowl', 'cost':9}, \n",
        "                  'A Zampa':{'points':42.2, 'Team':'RR', 'cat':'bowl', 'cost':8}, \n",
        "                  'K Rabada':{'points':27, 'Team':'PBKS', 'cat':'bowl', 'cost':8}, \n",
        "                  'R Chahar':{'points':21.92, 'Team':'PBKS', 'cat':'bowl', 'cost':7.5}, \n",
        "                  'N Ellis':{'points':42.11, 'Team':'PBKS', 'cat':'bowl', 'cost':7.5}, \n",
        "                  'S Sharma':{'points':32.91, 'Team':'RR', 'cat':'bowl', 'cost':7}, \n",
        "                  'H Brar':{'points':31., 'Team':'PBKS', 'cat':'bowl', 'cost':7}}\n",
        "\n",
        "\n"
      ]
    },
    {
      "cell_type": "markdown",
      "source": [
        "### Optimization formulation -- \n",
        "\n",
        "Variables:\n",
        "\n",
        "x_i: Binary variable representing whether player i is selected (x_i = 1) or not (x_i = 0).\n",
        "\n",
        "y_i: Binary variable representing whether player i is selected as the captain (y_i = 1) or not (y_i = 0).\n",
        "\n",
        "k_i: Binary variable representing whether player i is selected as the vice captain (k_i = 1) or not (k_i = 0).\n",
        "\n",
        "p_i: Expected points for player i.\n",
        "\n",
        "c_i: Cost associated with player i.\n",
        "\n",
        "t_i: Team associated with player i (t_i = 'A' or t_i = 'B').\n",
        "\n",
        "**Objective -- ** Maximize the expected points: \n",
        "\n",
        "*Maximize*: sum_i ((p_i \\* x_i) + (p_i \\* y_i) + 0.5\\*(p_i \\* k_i)) = sum_i (p_i \\* (x_i + y_i + 0.5\\*k_i))\n",
        "\n",
        "Subject to --- \n",
        "1. Total cost constraint: sum(c_i * x_i) <= 100\n",
        "\n",
        "2. Player selection constraint: sum(x_i) = 11\n",
        "\n",
        "3. Team constraint: sum(x_i * (t_i = 'A')) <= 7 || sum(x_i * (t_i = 'B')) <= 7\n",
        "\n",
        "4. Captain constraint: sum(y_i) = 1\n",
        "\n",
        "5. Vice Captain constraint: sum(k_i) = 1\n",
        "\n",
        "6. Captain needs to be only from the selected players: y_i <= x_i\n",
        "\n",
        "7. Vice-captain needs to be only from the selected players: k_i <= x_i\n",
        "\n",
        "8. A player cannot be captain and vice-captain at the same time: y_i + k_i <= 1\n"
      ],
      "metadata": {
        "id": "YPKgQWb2Msq4"
      }
    },
    {
      "cell_type": "code",
      "source": [
        "players_list = [p for p in players_info]\n",
        "points_array = [players_info[p]['points'] for p in players_list]\n",
        "cost_array = [players_info[p]['cost'] for p in players_list]\n",
        "\n",
        "#--------------------- Define the optimization variables --------\n",
        "\n",
        "z_variables = []\n",
        "z_variables_captain = []\n",
        "z_variables_vice_captain = []\n",
        "\n",
        "M = len(players_list)\n",
        "j = 0\n",
        "for i in range(M):      \n",
        "    x = LpVariable('x_{}_{}'.format(i,j), 0, 1, cat='Integer')\n",
        "    z_variables.append(x)\n",
        "    \n",
        "    y = LpVariable('y_{}_{}'.format(i,j), 0, 1, cat='Integer')    \n",
        "    z_variables_captain.append(y)\n",
        "    \n",
        "    k = LpVariable('k_{}_{}'.format(i,j), 0, 1, cat='Integer')    \n",
        "    z_variables_vice_captain.append(k)\n",
        "\n",
        "\n",
        "#--------------------- Define the optimization problem --------\n",
        "\n",
        "problem = LpProblem('Dream team optimization', LpMaximize)\n",
        "\n",
        "expected_points = lpDot(z_variables, points_array) + lpDot(z_variables_captain, points_array) + 0.5*lpDot(z_variables_vice_captain, points_array) \n",
        "\n",
        "total_cost = lpDot(z_variables, cost_array) \n",
        "\n",
        "problem += expected_points\n",
        "\n",
        "#--------------------- Setting up the constraints --------\n",
        "\n",
        "problem += total_cost <= 100.\n",
        "\n",
        "team_RR, team_PBKS = 0, 0\n",
        "for i, p in enumerate(players_list):\n",
        "    if (players_info[p]['Team'] == 'RR'):\n",
        "        team_RR += z_variables[i]\n",
        "    elif (players_info[p]['Team'] == 'PBKS'):\n",
        "        team_PBKS += z_variables[i]\n",
        "\n",
        "problem += team_RR <= 7\n",
        "problem += team_PBKS <= 7\n",
        "\n",
        "category_constraint = {'wk':0, 'bat':0, 'bowl':0, 'ar':0}\n",
        "for i, p in enumerate(players_list):\n",
        "    category_constraint[players_info[p]['cat']] += z_variables[i]\n",
        "\n",
        "for c in category_constraint:\n",
        "    problem += category_constraint[c] <= 8\n",
        "    problem += category_constraint[c] >= 1\n",
        "\n",
        "problem += lpSum(z_variables) == 11\n",
        "problem += lpSum(z_variables_captain) == 1\n",
        "problem += lpSum(z_variables_vice_captain) == 1\n",
        "\n",
        "for i in range(len(z_variables)):\n",
        "    problem += z_variables_captain[i] <= z_variables[i]\n",
        "    problem += z_variables_vice_captain[i] <= z_variables[i]\n",
        "    \n",
        "    problem += (z_variables_captain[i] + z_variables_vice_captain[i]) <= 1\n",
        "\n",
        "    \n",
        "\n",
        "print('Solving LP') \n",
        "solverdir = '/content/cbc' \n",
        "\n",
        "LpSolverDefault.msg = 1\n",
        "solver = COIN_CMD(path=solverdir, maxSeconds = 3600) \n",
        "start = 0 \n",
        "status = problem.solve(solver)\n",
        "\n",
        "print('problem.objective.value() -- ',problem.objective.value())\n",
        "status_dict = {1:\"Optimal\", 0:\"Not Solved\", -1:\"Infeasible\", -2:\"Unbounded\", -3:\"Undefined\"}\n",
        "\n",
        "print ('Opt_status =', status_dict[status])"
      ],
      "metadata": {
        "colab": {
          "base_uri": "https://localhost:8080/"
        },
        "id": "tE71uR3JKjx-",
        "outputId": "d9d29d0b-19f7-4ffa-b281-a28932c2a83d"
      },
      "execution_count": 9,
      "outputs": [
        {
          "output_type": "stream",
          "name": "stdout",
          "text": [
            "Solving LP\n",
            "problem.objective.value() --  653.38\n",
            "Opt_status = Optimal\n"
          ]
        },
        {
          "output_type": "stream",
          "name": "stderr",
          "text": [
            "/usr/local/lib/python3.10/dist-packages/pulp/pulp.py:1352: UserWarning: Spaces are not permitted in the name. Converted to '_'\n",
            "  warnings.warn(\"Spaces are not permitted in the name. Converted to '_'\")\n",
            "/usr/local/lib/python3.10/dist-packages/pulp/apis/coin_api.py:95: UserWarning: Parameter maxSeconds is being depreciated for timeLimit\n",
            "  warnings.warn(\"Parameter maxSeconds is being depreciated for timeLimit\")\n"
          ]
        }
      ]
    },
    {
      "cell_type": "markdown",
      "source": [
        "## Get the team output --"
      ],
      "metadata": {
        "id": "BX34Rp6WQnt7"
      }
    },
    {
      "cell_type": "code",
      "source": [
        "print (\"Dream team based on the average performance of players in the league:\")\n",
        "print()\n",
        "\n",
        "total_cost = 0\n",
        "for idx,v in enumerate(z_variables):\n",
        "    if (v.value() == 1): \n",
        "        total_cost += cost_array[idx]\n",
        "        print (players_list[idx], end = '')\n",
        "        if (z_variables_captain[idx].value() == 1): \n",
        "            print (' -- Captain', end = '')\n",
        "        if (z_variables_vice_captain[idx].value() == 1): \n",
        "            print (' -- V. Captain', end = '')\n",
        "        print() \n",
        "\n",
        "print ()\n",
        "print (\"Team cost -- \", total_cost)"
      ],
      "metadata": {
        "colab": {
          "base_uri": "https://localhost:8080/"
        },
        "id": "dutz5gyhKqEJ",
        "outputId": "26df5285-91f9-48e7-b47d-72812b3b4d19"
      },
      "execution_count": 10,
      "outputs": [
        {
          "output_type": "stream",
          "name": "stdout",
          "text": [
            "Dream team based on the average performance of players in the league:\n",
            "\n",
            "J Buttler\n",
            "S Samson\n",
            "P Singh\n",
            "S Dhawan\n",
            "Y Jaiswal -- Captain\n",
            "S Taide\n",
            "L Livingstone -- V. Captain\n",
            "S Curran\n",
            "Y Chahal\n",
            "A Zampa\n",
            "N Ellis\n",
            "\n",
            "Team cost --  91.0\n"
          ]
        }
      ]
    },
    {
      "cell_type": "code",
      "source": [],
      "metadata": {
        "id": "L-Zbb-c6QjWU"
      },
      "execution_count": null,
      "outputs": []
    }
  ]
}